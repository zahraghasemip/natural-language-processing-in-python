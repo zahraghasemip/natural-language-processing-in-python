{
 "cells": [
  {
   "cell_type": "code",
   "execution_count": null,
   "id": "6dcc1d7f-a1c4-4f29-a805-ba99f4e54e24",
   "metadata": {},
   "outputs": [],
   "source": [
    "import numpy as np\n",
    "import pandas as pd\n",
    "import seaborn as sn\n",
    "import matplotlib.pyplot as plt\n",
    "from sklearn.feature_extraction.text import TfidfVectorizer, CountVectorizer\n",
    "from sklearn.model_selection import train_test_split\n",
    "from sklearn.metrics import roc_auc_score, f1_score, confusion_matrix\n",
    "from sklearn.naive_bayes import MultinomialNB\n",
    "#!pip install wordcloud\n",
    "from wordcloud import WordCloud\n",
    "import urllib.request"
   ]
  },
  {
   "cell_type": "code",
   "execution_count": null,
   "id": "2ffccaa0-974e-4d93-a171-743936bb9879",
   "metadata": {},
   "outputs": [],
   "source": [
    "url = \"https://lazyprogrammer.me/course_files/spam.csv\"\n",
    "urllib.request.urlretrieve(url, \"spam.csv\")\n",
    "df = pd.read_csv(\"spam.csv\", encoding=\"ISO-8859-1\")  # encoding avoids errors\n",
    "df.head()"
   ]
  },
  {
   "cell_type": "code",
   "execution_count": null,
   "id": "7ddc1d93-4d19-49ad-87c1-c748cbc9eb3f",
   "metadata": {},
   "outputs": [],
   "source": [
    "#drop unnecessary columns\n",
    "df = df.drop([\"Unnamed: 2\", \"Unnamed: 3\",  \"Unnamed: 4\"], axis =1)"
   ]
  },
  {
   "cell_type": "code",
   "execution_count": null,
   "id": "f47bd10c-d108-4751-b3cc-a031ce87ff82",
   "metadata": {},
   "outputs": [],
   "source": [
    "#df.head()"
   ]
  },
  {
   "cell_type": "code",
   "execution_count": null,
   "id": "b10bb7ca-6b9e-4297-a24f-bdab00a3ab0e",
   "metadata": {},
   "outputs": [],
   "source": [
    "#rename columns to sth better\n",
    "df.columns = [\"labels\", \"data\"]"
   ]
  },
  {
   "cell_type": "code",
   "execution_count": null,
   "id": "1fbe689c-79b9-4b9a-bcc7-cee32dbb185c",
   "metadata": {},
   "outputs": [],
   "source": [
    "#df.head()"
   ]
  },
  {
   "cell_type": "code",
   "execution_count": null,
   "id": "3504b4bb-a360-4773-ae20-c26c28b7c40c",
   "metadata": {},
   "outputs": [],
   "source": [
    "#a graphical representation of the distribution of a numerical dataset\n",
    "df['labels'].hist()"
   ]
  },
  {
   "cell_type": "code",
   "execution_count": null,
   "id": "6088d828-f3ca-4474-a002-7f27ba8ef276",
   "metadata": {},
   "outputs": [],
   "source": [
    "#create binary labels\n",
    "df['b_labels'] = df['labels'].map({'ham' : 0, 'spam' : 1})\n",
    "Y = df['b_labels'].to_numpy()"
   ]
  },
  {
   "cell_type": "code",
   "execution_count": null,
   "id": "505aa6d9-dbbc-401c-ad11-9e7f9b52a3be",
   "metadata": {},
   "outputs": [],
   "source": [
    "#split up the data\n",
    "df_train, df_test, Ytrain, Ytest = train_test_split(df['data'], Y, test_size=0.33)"
   ]
  },
  {
   "cell_type": "code",
   "execution_count": null,
   "id": "789ba356-8818-4b15-a990-2fdfc5a6640b",
   "metadata": {},
   "outputs": [],
   "source": [
    "featurizer = CountVectorizer(decode_error = 'ignore')\n",
    "Xtrain = featurizer.fit_transform(df_train)\n",
    "Xtest = featurizer.transform(df_test)"
   ]
  },
  {
   "cell_type": "code",
   "execution_count": null,
   "id": "c3db797a-23c2-46d7-91cd-6182ed823c10",
   "metadata": {},
   "outputs": [],
   "source": [
    "#Xtrain"
   ]
  },
  {
   "cell_type": "code",
   "execution_count": null,
   "id": "d7f36f02-eaa6-4d12-98cf-6502cbb09c08",
   "metadata": {},
   "outputs": [],
   "source": [
    "#create the model, train it, print scores\n",
    "model = MultinomialNB()\n",
    "model.fit(Xtrain, Ytrain)\n",
    "print(\"train acc:\", model.score(Xtrain, Ytrain))\n",
    "print(\"test acc:\", model.score(Xtest, Ytest))"
   ]
  },
  {
   "cell_type": "code",
   "execution_count": null,
   "id": "cf006fb7-ec0f-4a84-b6d3-8224abbdb531",
   "metadata": {},
   "outputs": [],
   "source": [
    "Ptrain = model.predict(Xtrain)\n",
    "Ptest = model.predict(Xtest)\n",
    "print(\"train F1\", f1_score(Ytrain, Ptrain))\n",
    "print(\"test F1\", f1_score(Ytest, Ptest))"
   ]
  },
  {
   "cell_type": "code",
   "execution_count": null,
   "id": "b8c9a8c7-dcf7-4cbd-831e-965da27650f3",
   "metadata": {},
   "outputs": [],
   "source": [
    "cm = confusion_matrix(Ytrain, Ptrain)\n",
    "cm"
   ]
  },
  {
   "cell_type": "code",
   "execution_count": null,
   "id": "0d965dc2-a8a7-42d4-9a86-ebf6dd127695",
   "metadata": {},
   "outputs": [],
   "source": [
    "#making confusion matrix easy to read:\n",
    "def plot_cm(cm):\n",
    "    classes = ['ham', 'spam']\n",
    "    df_cm = pd.DataFrame(cm, index=classes, columns=classes)\n",
    "    ax = sn.heatmap(df_cm, annot=True, fmt='g')\n",
    "    ax.set_xlabel(\"Predicted\")\n",
    "    ax.set_ylabel(\"Target\")\n",
    "plot_cm(cm)"
   ]
  },
  {
   "cell_type": "code",
   "execution_count": null,
   "id": "5127591b-3086-4454-aa33-dbfd23f47151",
   "metadata": {},
   "outputs": [],
   "source": [
    "cm_test = confusion_matrix(Ytest, Ptest)\n",
    "plot_cm(cm_test)"
   ]
  },
  {
   "cell_type": "code",
   "execution_count": null,
   "id": "bd4f23b6-3a73-445b-b0e4-37827c86c69e",
   "metadata": {},
   "outputs": [],
   "source": [
    "#visualize the data\n",
    "def visualize(label):\n",
    "    words = ''\n",
    "    for msg in df[df['labels'] == label]['data']:\n",
    "        msg = msg.lower()\n",
    "        words += msg + ''\n",
    "    wordcloud = WordCloud(width=600, height=400).generate(words)\n",
    "    plt.imshow(wordcloud)\n",
    "    plt.axis = ('off')\n",
    "    plt.show()    "
   ]
  },
  {
   "cell_type": "code",
   "execution_count": null,
   "id": "39ee0cf0-faea-4e55-83bb-e9292ba2ef92",
   "metadata": {},
   "outputs": [],
   "source": [
    "visualize('spam')"
   ]
  },
  {
   "cell_type": "code",
   "execution_count": null,
   "id": "cb4a178a-60ae-446e-99a2-d64adc61a73d",
   "metadata": {},
   "outputs": [],
   "source": [
    "visualize('ham')"
   ]
  },
  {
   "cell_type": "code",
   "execution_count": null,
   "id": "8a26b7c4-b291-457c-89a3-cdf03ffe7fcb",
   "metadata": {},
   "outputs": [],
   "source": [
    "#see what we are getting wrong\n",
    "X = featurizer.transform(df['data'])\n",
    "df['predictions'] = model.predict(X)"
   ]
  },
  {
   "cell_type": "code",
   "execution_count": null,
   "id": "0961572d-9bce-4bc6-9b11-2f4313893d7e",
   "metadata": {},
   "outputs": [],
   "source": [
    "#things that should be spam\n",
    "#all messages that your model predicted as ham (0) & all messages that are actually spam (1)\n",
    "#Which spam messages did my model fail to catch?\n",
    "sneaky_spam = df[(df['predictions'] == 0) & (df['b_labels'] == 1)]['data']\n",
    "for msg in sneaky_spam:\n",
    "    print(msg)"
   ]
  },
  {
   "cell_type": "code",
   "execution_count": null,
   "id": "3428ebaa-930f-4a6b-a1c9-b0455fb3c369",
   "metadata": {},
   "outputs": [],
   "source": [
    "#things that should not be spam, or maybe they are mislabelled\n",
    "not_actually_spam = df[(df['predictions'] == 1) & (df['b_labels'] == 0)]['data']\n",
    "for msg in not_actually_spam:\n",
    "    print(msg)"
   ]
  },
  {
   "cell_type": "code",
   "execution_count": null,
   "id": "8850420a-7890-4ffa-a21b-2b00405ef0cd",
   "metadata": {},
   "outputs": [],
   "source": []
  }
 ],
 "metadata": {
  "kernelspec": {
   "display_name": "Python [conda env:base] *",
   "language": "python",
   "name": "conda-base-py"
  },
  "language_info": {
   "codemirror_mode": {
    "name": "ipython",
    "version": 3
   },
   "file_extension": ".py",
   "mimetype": "text/x-python",
   "name": "python",
   "nbconvert_exporter": "python",
   "pygments_lexer": "ipython3",
   "version": "3.13.5"
  }
 },
 "nbformat": 4,
 "nbformat_minor": 5
}
