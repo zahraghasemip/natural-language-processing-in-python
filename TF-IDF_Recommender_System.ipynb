{
 "cells": [
  {
   "cell_type": "code",
   "execution_count": null,
   "id": "ed62a497-ca0f-493e-843e-697213f7f8c6",
   "metadata": {},
   "outputs": [],
   "source": [
    "import pandas as pd\n",
    "import matplotlib.pyplot as plt\n",
    "import json\n",
    "from sklearn.feature_extraction.text import TfidfVectorizer\n",
    "from sklearn.metrics.pairwise import cosine_similarity, euclidean_distances"
   ]
  },
  {
   "cell_type": "code",
   "execution_count": null,
   "id": "3346d2ca-e314-4ec6-98d5-e1104a02613a",
   "metadata": {},
   "outputs": [],
   "source": [
    "url = \"https://lazyprogrammer.me/course_files/nlp/tmdb_5000_movies.csv\"\n",
    "df = pd.read_csv(url)\n",
    "df.head()"
   ]
  },
  {
   "cell_type": "code",
   "execution_count": null,
   "id": "63480c0e-0f7c-4c02-a14c-0ff17c97604d",
   "metadata": {},
   "outputs": [],
   "source": [
    "x = df.iloc[0]\n",
    "x"
   ]
  },
  {
   "cell_type": "code",
   "execution_count": null,
   "id": "332f7cdd-802c-4b44-aeea-ce342a946e6d",
   "metadata": {},
   "outputs": [],
   "source": [
    "x['genres']"
   ]
  },
  {
   "cell_type": "code",
   "execution_count": null,
   "id": "4a252622-ebb9-4667-95db-52c4b501a41b",
   "metadata": {},
   "outputs": [],
   "source": [
    "x['keywords']"
   ]
  },
  {
   "cell_type": "code",
   "execution_count": null,
   "id": "12e7eaa9-a3ee-4fba-b9ed-b795aa619301",
   "metadata": {},
   "outputs": [],
   "source": [
    "j = json.loads(x['genres'])\n",
    "j"
   ]
  },
  {
   "cell_type": "code",
   "execution_count": null,
   "id": "9deedaa5-e00b-43d2-b0ba-ce168b8b0b1c",
   "metadata": {},
   "outputs": [],
   "source": [
    "' '.join(''.join(jj['name'].split())for jj in j)"
   ]
  },
  {
   "cell_type": "code",
   "execution_count": null,
   "id": "f9b4066b-82e4-416d-9bff-debb5c16f7a8",
   "metadata": {},
   "outputs": [],
   "source": [
    "#convert the relevant data for each movie into a single string\n",
    "#to be ingested by TfidfVectorizer\n",
    "def genres_and_keywords_to_string(row):\n",
    "    genres = json.loads(row['genres'])\n",
    "    genres = ' '.join(''.join(j['name'].split())for j in genres)\n",
    "    keywords = json.loads(row['keywords'])\n",
    "    keywords = ' '.join(''.join(j['name'].split())for j in keywords)\n",
    "    return \"{} {}\".format(genres, keywords)"
   ]
  },
  {
   "cell_type": "code",
   "execution_count": null,
   "id": "17705cc8-8ccf-430d-a81a-f02f012c3c34",
   "metadata": {},
   "outputs": [],
   "source": [
    "#create a new representation of each movie\n",
    "df['string'] = df.apply(genres_and_keywords_to_string, axis=1)"
   ]
  },
  {
   "cell_type": "code",
   "execution_count": null,
   "id": "9e2005fe-f96e-41cb-91d8-ec00c05c925b",
   "metadata": {},
   "outputs": [],
   "source": [
    "#create a tf-idf vectorizer object\n",
    "tfidf = TfidfVectorizer(max_features = 2000)"
   ]
  },
  {
   "cell_type": "code",
   "execution_count": null,
   "id": "f50e4e57-8ab7-4402-8624-4ef2c52d3dca",
   "metadata": {},
   "outputs": [],
   "source": [
    "#create a data matrix from the overviews\n",
    "X = tfidf.fit_transform(df['string'])"
   ]
  },
  {
   "cell_type": "code",
   "execution_count": null,
   "id": "1b06970d-5bfe-48e0-b1f5-60b3f030e72a",
   "metadata": {},
   "outputs": [],
   "source": [
    "X"
   ]
  },
  {
   "cell_type": "code",
   "execution_count": null,
   "id": "5bbf6b6e-aad8-4c28-a757-380cbeb0986f",
   "metadata": {},
   "outputs": [],
   "source": [
    "#generate a mapping from moive title \n",
    "movie2idx = pd.Series(df.index, index=df['title'])\n",
    "movie2idx"
   ]
  },
  {
   "cell_type": "code",
   "execution_count": null,
   "id": "744f8010-9f54-42fc-97e5-db102980fcec",
   "metadata": {},
   "outputs": [],
   "source": [
    " idx = movie2idx['Avatar']\n",
    "idx"
   ]
  },
  {
   "cell_type": "code",
   "execution_count": null,
   "id": "e7baa6c5-8301-42a3-947c-658e3d486086",
   "metadata": {},
   "outputs": [],
   "source": [
    "query = X[idx]\n",
    "query.toarray()"
   ]
  },
  {
   "cell_type": "code",
   "execution_count": null,
   "id": "acbf24ea-388e-4dd2-99ce-ea0abaf06b49",
   "metadata": {},
   "outputs": [],
   "source": [
    "#compute similarity between query and every vector in X\n",
    "scores = cosine_similarity(query, X)\n",
    "scores"
   ]
  },
  {
   "cell_type": "code",
   "execution_count": null,
   "id": "abdbab7c-39ec-435e-9371-aa63d0450c81",
   "metadata": {},
   "outputs": [],
   "source": [
    "#currently the array is 1 * n, make it just a 1-D array\n",
    "scores = scores.flatten()\n",
    "plt.plot(scores)"
   ]
  },
  {
   "cell_type": "code",
   "execution_count": null,
   "id": "65652164-cd3c-4283-976b-cbaec35ef3bf",
   "metadata": {},
   "outputs": [],
   "source": [
    "(-scores).argsort()"
   ]
  },
  {
   "cell_type": "code",
   "execution_count": null,
   "id": "ad279587-b548-43c6-bfa3-118b55cc734c",
   "metadata": {},
   "outputs": [],
   "source": [
    "plt.plot(scores[(-scores).argsort()])"
   ]
  },
  {
   "cell_type": "code",
   "execution_count": null,
   "id": "51f0530d-3563-4d23-8eb7-fde09f9f2aa3",
   "metadata": {},
   "outputs": [],
   "source": [
    "#get top 5 matches\n",
    "recommended_idx = (-scores).argsort()[1:6]"
   ]
  },
  {
   "cell_type": "code",
   "execution_count": null,
   "id": "8718cbcc-fff5-4ea5-8499-22178386695c",
   "metadata": {},
   "outputs": [],
   "source": [
    "#convert indices back to titles\n",
    "df['title'].iloc[recommended_idx]"
   ]
  },
  {
   "cell_type": "code",
   "execution_count": null,
   "id": "6c077b78-a4be-4885-9b94-bc384063657c",
   "metadata": {},
   "outputs": [],
   "source": [
    "#create a function that generates recommendations\n",
    "def recommend(title):\n",
    "    #get the row in the dataframe for this movie\n",
    "    idx = movie2idx[title]\n",
    "    if type(idx) == pd.Series:\n",
    "        idx = idx.iloc[0]\n",
    "    #calculate the pairwise similarities for this movie\n",
    "    query = X[idx]\n",
    "    scores = cosine_similarity(query, X)\n",
    "    scores = scores.flatten()\n",
    "    recommended_idx = (-scores).argsort()[1:6]\n",
    "\n",
    "    #return the titles of recommendations\n",
    "    return df['title'].iloc[recommended_idx]\n",
    "\n"
   ]
  },
  {
   "cell_type": "code",
   "execution_count": null,
   "id": "65c1e518-fef6-4caa-84dd-c3a315798a06",
   "metadata": {},
   "outputs": [],
   "source": [
    "print(recommend('Mortal Kombat'))"
   ]
  },
  {
   "cell_type": "code",
   "execution_count": null,
   "id": "7e28faa6-2e99-4e12-82d5-d0d7c1a0c2fd",
   "metadata": {},
   "outputs": [],
   "source": [
    "print(recommend('Avatar'))"
   ]
  },
  {
   "cell_type": "code",
   "execution_count": null,
   "id": "0233462f-d073-4bec-b718-c20f5f5aeed4",
   "metadata": {},
   "outputs": [],
   "source": []
  }
 ],
 "metadata": {
  "kernelspec": {
   "display_name": "Python [conda env:base] *",
   "language": "python",
   "name": "conda-base-py"
  },
  "language_info": {
   "codemirror_mode": {
    "name": "ipython",
    "version": 3
   },
   "file_extension": ".py",
   "mimetype": "text/x-python",
   "name": "python",
   "nbconvert_exporter": "python",
   "pygments_lexer": "ipython3",
   "version": "3.13.5"
  }
 },
 "nbformat": 4,
 "nbformat_minor": 5
}
